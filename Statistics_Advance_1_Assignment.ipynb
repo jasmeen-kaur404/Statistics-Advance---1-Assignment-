{
  "nbformat": 4,
  "nbformat_minor": 0,
  "metadata": {
    "colab": {
      "provenance": []
    },
    "kernelspec": {
      "name": "python3",
      "display_name": "Python 3"
    },
    "language_info": {
      "name": "python"
    }
  },
  "cells": [
    {
      "cell_type": "code",
      "execution_count": null,
      "metadata": {
        "id": "bbapROV-qiSs"
      },
      "outputs": [],
      "source": [
        "# 1. Explain the properties of the F-distribution.\n",
        "\n",
        "\n",
        "The F-distribution is a key concept in statistics with specific properties that make it useful for hypothesis testing, particularly when comparing variances or analyzing models like ANOVA. Here’s a formula-free explanation of its properties:\n",
        "\n",
        "1. Range of Values\n",
        "The F-distribution is defined only for positive values. It starts at zero and extends indefinitely to the right, as it represents the ratio of two variances.\n",
        "\n",
        "2. Shape\n",
        "The shape of the F-distribution is determined by two parameters, called degrees of freedom. It is generally skewed to the right, especially when the degrees of freedom are small. As the degrees of freedom increase, the distribution becomes less skewed and more symmetric.\n",
        "\n",
        "3. Mean and Variability\n",
        "The F-distribution has an average value (mean) only if certain conditions on the degrees of freedom are met.\n",
        "Its variability (spread) decreases as the degrees of freedom increase, making the distribution more concentrated around its peak.\n",
        "\n",
        "4. Dependence on Degrees of Freedom\n",
        "The F-distribution relies on two degrees of freedom: one for the numerator and one for the denominator. These values influence its shape and location. For instance:\n",
        "Larger degrees of freedom make the distribution closer to a normal distribution.\n",
        "Smaller degrees of freedom create a more skewed distribution.\n",
        "\n",
        "5. Skewness\n",
        "The F-distribution is asymmetrical and skewed to the right. This reflects the fact that ratios of variances cannot be negative and tend to cluster more toward smaller values while occasionally producing larger ratios.\n",
        "\n",
        "6. Applications\n",
        "The F-distribution is primarily used in hypothesis testing to:\n",
        "Compare the variances of two populations.\n",
        "Assess whether multiple groups have the same mean (as in ANOVA).\n",
        "Test the overall fit of regression models.\n",
        "\n",
        "7. Relationship with Other Distributions\n",
        "The F-distribution is closely related to other distributions, such as the chi-squared distribution. It represents the ratio of two chi-squared distributions scaled by their respective degrees of freedom.\n",
        "\n",
        "8. Asymptotic Behavior\n",
        "As the degrees of freedom for both the numerator and denominator become very large, the F-distribution starts to resemble the normal distribution."
      ]
    },
    {
      "cell_type": "code",
      "source": [
        "# 2. In which types of statistical tests is the F-distribution used, and why is it appropriate for these tests?\n",
        "\n",
        "\n",
        "The F-distribution is used in several types of statistical tests that involve comparing variances, testing model significance, or analyzing relationships among multiple groups. Here’s an overview of the types of tests where it is used and why it is appropriate:\n",
        "\n",
        "1. Analysis of Variance (ANOVA)\n",
        "Purpose: To compare the means of three or more groups and determine if they are significantly different.\n",
        "Why F-Distribution is Appropriate:\n",
        "ANOVA relies on the ratio of variances: the variance between group means compared to the variance within groups.\n",
        "The F-distribution is the natural choice because it models the ratio of two independent variances.\n",
        "\n",
        "2. Regression Analysis\n",
        "Purpose: To test the overall significance of a regression model by comparing the explained variance (due to the model) to the unexplained variance (due to errors).\n",
        "Why F-Distribution is Appropriate:\n",
        "The F-statistic evaluates the ratio of the variance explained by the model to the residual variance, which follows an F-distribution under the null hypothesis (no effect).\n",
        "\n",
        "3. Test of Equality of Variances\n",
        "Purpose: To compare the variances of two populations and determine if they are significantly different (e.g., Levene’s Test or Bartlett’s Test).\n",
        "Why F-Distribution is Appropriate:\n",
        "The F-distribution inherently deals with ratios of variances, making it suitable for assessing if two variances differ significantly.\n",
        "\n",
        "4. Model Comparison in Nested Models\n",
        "Purpose: To compare two nested models (one simpler, the other more complex) and determine if the additional parameters in the complex model significantly improve the fit.\n",
        "Why F-Distribution is Appropriate:\n",
        "The test compares the reduction in residual variance when additional parameters are added, relative to the increase in the number of parameters. This ratio follows an F-distribution.\n",
        "\n",
        "5. Multivariate Analysis\n",
        "Purpose: To test hypotheses in multivariate methods, such as MANOVA (Multivariate Analysis of Variance), where multiple dependent variables are analyzed simultaneously.\n",
        "Why F-Distribution is Appropriate:\n",
        "Multivariate tests also use ratios of variances (e.g., between groups and within groups), extending the logic of ANOVA to multiple variables.\n",
        "\n",
        "6. Random Effects Models\n",
        "Purpose: To test for the significance of random effects in hierarchical or mixed models.\n",
        "Why F-Distribution is Appropriate:\n",
        "The F-distribution helps evaluate whether the variance attributed to random effects is significantly different from zero."
      ],
      "metadata": {
        "id": "lkh_n02FryPr"
      },
      "execution_count": null,
      "outputs": []
    },
    {
      "cell_type": "code",
      "source": [
        "# 3. What are the key assumptions required for conducting an F-test to compare the variances of two populations?\n",
        "\n",
        "Conducting an F-test to compare the variances of two populations requires certain key assumptions to ensure the validity of the test. These assumptions are as follows:\n",
        "\n",
        "1. Independent Samples\n",
        "The two samples must be independent of each other, meaning that the values in one sample should not influence or be related to the values in the other sample.\n",
        "\n",
        "2. Normally Distributed Populations\n",
        "The populations from which the samples are drawn should follow a normal distribution.\n",
        "This is a critical assumption for the F-test because the test statistic (ratio of variances) relies on the sampling distributions of the variances, which are valid under normality.\n",
        "\n",
        "3. Ratio of Variances\n",
        "The F-test specifically tests the ratio of variances. The null hypothesis assumes that the variances of the two populations are equal\n",
        "\n",
        "4. Random Sampling\n",
        "The data in both samples should be collected through a random sampling process to ensure that the samples are representative of their respective populations.\n",
        "\n",
        "5. Positive Variances\n",
        "The variances being compared must be positive because the F-statistic is a ratio of variances, and negative variances are not mathematically valid.\n",
        "\n",
        "6. Equal Scale of Measurement\n",
        "The variables being compared must be measured on the same scale. Comparing variances of variables measured on different scales can lead to misleading results."
      ],
      "metadata": {
        "id": "XPzW2vvfsT-b"
      },
      "execution_count": null,
      "outputs": []
    },
    {
      "cell_type": "code",
      "source": [
        "# 4. What is the purpose of ANOVA, and how does it differ from a t-test?\n",
        "\n",
        "The purpose of ANOVA (Analysis of Variance) is to determine whether there are significant differences between the means of three or more groups. It does this by examining the variance within groups compared to the variance between groups. Essentially, ANOVA helps assess whether the observed differences in group means are due to true effects or merely random variation.\n",
        "\n",
        "In contrast, a t-test is used to compare the means of two groups to determine if there is a statistically significant difference between them. While both ANOVA and the t-test are used for hypothesis testing, they differ in the number of groups they analyze and their broader applications.\n",
        "\n",
        "One key distinction is that ANOVA is designed for scenarios involving three or more groups. Using multiple t-tests to compare several groups increases the risk of a Type I error (false positive). ANOVA avoids this issue by testing all group means simultaneously under one null hypothesis, which states that all group means are equal.\n",
        "\n",
        "ANOVA also provides flexibility for more complex experimental designs. For example, factorial ANOVA can examine the interaction effects between multiple independent variables, whereas a t-test is limited to comparing two groups directly. If ANOVA indicates significant differences among groups, further analysis, such as post hoc tests, is needed to identify which specific groups differ."
      ],
      "metadata": {
        "id": "FqQP58husxkx"
      },
      "execution_count": null,
      "outputs": []
    },
    {
      "cell_type": "code",
      "source": [
        "# 5. Explain when and why you would use a one-way ANOVA instead of multiple t-tests when comparing more than two groups.\n",
        "\n",
        "When to Use a One-Way ANOVA:\n",
        "1. Number of Groups: You have three or more groups to compare in terms of their means (e.g., comparing test scores across three teaching methods).\n",
        "2. Single Factor: There is only one independent variable or factor that differentiates the groups (e.g., teaching method) with multiple levels (e.g., method A, B, and C).\n",
        "3. Goal: The goal is to determine whether there are statistically significant differences among the group means.\n",
        "4. Assumptions Met: The data satisfies the assumptions of normality, equal variances, and independence.\n",
        "\n",
        "\n",
        "Why Use a One-Way ANOVA Instead of Multiple t-Tests\n",
        "1. Avoiding Inflation of Type I Error: When conducting multiple t-tests, the probability of committing a Type I error (incorrectly rejecting the null hypothesis) increases with the number of comparisons. For example, if the significance level (α) is set to 0.05 for each t-test, the cumulative error across multiple tests can exceed 0.05.\n",
        "One-way ANOVA controls this error by testing all group differences simultaneously under a single null hypothesis.\n",
        "\n",
        "2. Efficiency: One-way ANOVA provides a single test for all groups, reducing the computational burden and simplifying the analysis compared to performing numerous t-tests.\n",
        "\n",
        "3. Interpretability: ANOVA provides an overall view of whether any group differs from the others, which is more systematic than interpreting multiple individual comparisons.\n",
        "\n",
        "4. Post Hoc Analysis: If the one-way ANOVA result is significant, post hoc tests (e.g., Tukey's HSD) can be used to identify which specific groups differ. This structured approach is more reliable than performing ad-hoc multiple t-tests.\n",
        "\n",
        "5. Consistency with Statistical Standards: One-way ANOVA is the standard approach for multi-group comparisons and is widely recognized as statistically robust for analyzing differences in means.\n"
      ],
      "metadata": {
        "id": "Tai2_g4EtSRf"
      },
      "execution_count": null,
      "outputs": []
    },
    {
      "cell_type": "code",
      "source": [
        "# 6. Explain how variance is partitioned in ANOVA into between-group variance and within-group variance. How does this partitioning contribute to the calculation of the F-statistic?\n",
        "\n",
        "If between-group variance is large relative to within-group variance, the F-statistic will be high, providing evidence against the null hypothesis (that all group means are equal).\n",
        "If the between-group variance is small or similar to the within-group variance, the F-statistic will be close to 1, indicating no significant differences among the group means.\n",
        "The F-distribution is used to determine the p-value associated with the calculated F-statistic, helping decide whether the group differences are statistically significant.\n",
        "\n",
        "Example :\n",
        "Suppose you are testing three teaching methods and measuring students scores. If most of the variability in scores is explained by differences between teaching methods (large between-group variance) rather than random variation within each method (small within-group variance), the F-statistic will be large, and the null hypothesis is likely to be rejected.\n",
        "This partitioning of variance into between and within components forms the foundation of ANOVA and directly informs the hypothesis test by quantifying how group differences compare to random noise.\n"
      ],
      "metadata": {
        "id": "u-6SSzLzuJaE"
      },
      "execution_count": null,
      "outputs": []
    },
    {
      "cell_type": "code",
      "source": [
        "# 7. Compare the classical (frequentist) approach to ANOVA with the Bayesian approach. What are the key differences in terms of how they handle uncertainty, parameter estimation, and hypothesis testing?\n",
        "\n",
        "1. Handling Uncertainty:\n",
        "Frequentist Approach: In the classical framework, uncertainty is primarily captured through the sampling distribution of the data. The frequentist approach views parameters (e.g., group means or variances) as fixed but unknown values. It assesses uncertainty about these parameters by considering the likelihood of observing the data, given a fixed parameter value.\n",
        "Uncertainty is quantified using p-values, confidence intervals, and statistical significance, all based on repeated sampling and the frequency of events under the null hypothesis.\n",
        "\n",
        "Bayesian Approach: Bayesian methods treat parameters as random variables, which have prior distributions reflecting our beliefs before seeing the data. After observing the data, the posterior distribution of the parameters is updated based on Bayes' Theorem, which combines the prior and the likelihood of the observed data.\n",
        "Uncertainty in the Bayesian approach is directly represented by the posterior distributions of parameters, providing a full probability distribution over possible values of the parameters.\n",
        "\n",
        "2. Parameter Estimation:\n",
        "Frequentist Approach: In classical ANOVA, parameter estimation is done using point estimates, such as the sample means for the group levels. Estimation relies on methods like maximum likelihood estimation (MLE), but it does not inherently provide a distribution of the parameters. Instead, it uses the observed data to estimate the best estimate of the parameter.\n",
        "Confidence intervals are constructed around these estimates to quantify uncertainty, but the intervals are based on assumptions about the data distribution.\n",
        "\n",
        "Bayesian Approach: In Bayesian ANOVA, parameter estimation is performed by calculating the posterior distribution of the parameters given the data. This posterior distribution reflects both prior beliefs and the likelihood of the observed data.\n",
        "Instead of relying on a single point estimate, Bayesian methods provide a full distribution over parameters, allowing for richer interpretation (e.g., credible intervals for parameters).\n",
        "\n",
        "3. Hypothesis Testing:\n",
        "\n",
        "Frequentist Approach: Hypothesis testing in frequentist ANOVA is based on the null hypothesis significance testing (NHST). In this framework, we test whether the observed differences between groups are statistically significant by comparing the test statistic (like F) to critical values from a sampling distribution under the null hypothesis.\n",
        "The decision is typically made based on a p-value, which quantifies the probability of observing the data (or something more extreme) assuming the null hypothesis is true. If the p-value is below a predefined threshold (e.g., 0.05), the null hypothesis is rejected.\n",
        "\n",
        "Bayesian Approach: Bayesian hypothesis testing involves comparing the posterior probabilities of different hypotheses or models. Instead of a fixed p-value, the Bayesian approach typically computes the probability of a hypothesis or model being true, given the data.\n",
        "A Bayesian alternative to traditional hypothesis testing is Bayes factors, which quantify the strength of evidence for one model relative to another. A higher Bayes factor suggests stronger evidence for a model, while a lower factor suggests weaker evidence."
      ],
      "metadata": {
        "id": "1KIztpiZu0yg"
      },
      "execution_count": null,
      "outputs": []
    },
    {
      "cell_type": "code",
      "source": [
        "# 8. Question: You have two sets of data representing the incomes of two different professions1\n",
        "V Profession A: [48, 52, 55, 60, 62]\n",
        "V Profession B: [45, 50, 55, 52, 47] Perform an F-test to determine if the variances of the two professions\n",
        "incomes are equal. What are your conclusions based on the F-test?\n",
        "\n",
        "Task: Use Python to calculate the F-statistic and p-value for the given data.\n",
        "\n",
        "Objective: Gain experience in performing F-tests and interpreting the results in terms of variance comparison.\n",
        "\n",
        "\n",
        "import numpy as np\n",
        "from scipy import stats\n",
        "\n",
        "# Data for Profession A and Profession B\n",
        "profession_a = np.array([48, 52, 55, 60, 62])\n",
        "profession_b = np.array([45, 50, 55, 52, 47])\n",
        "\n",
        "# Calculate variances for both professions\n",
        "var_a = np.var(profession_a, ddof=1)  # ddof=1 for sample variance\n",
        "var_b = np.var(profession_b, ddof=1)\n",
        "\n",
        "# Perform F-test\n",
        "f_statistic = var_a / var_b if var_a > var_b else var_b / var_a  # F-statistic is the ratio of the larger variance to the smaller variance\n",
        "df_a = len(profession_a) - 1  # degrees of freedom for profession A\n",
        "df_b = len(profession_b) - 1  # degrees of freedom for profession B\n",
        "\n",
        "# Calculate p-value using the F-distribution\n",
        "p_value = 2 * min(stats.f.cdf(f_statistic, df_a, df_b), 1 - stats.f.cdf(f_statistic, df_a, df_b))\n",
        "\n",
        "f_statistic, p_value\n"
      ],
      "metadata": {
        "id": "Vd4jrkf-vol_"
      },
      "execution_count": null,
      "outputs": []
    },
    {
      "cell_type": "code",
      "source": [
        "# 9. Question: Conduct a one-way ANOVA to test whether there are any statistically significant differences in\n",
        "average heights between three different regions with the following data1\n",
        "V Region A: [160, 162, 165, 158, 164]\n",
        "V Region B: [172, 175, 170, 168, 174]\n",
        "V Region C: [180, 182, 179, 185, 183]\n",
        "V Task: Write Python code to perform the one-way ANOVA and interpret the results\n",
        "V Objective: Learn how to perform one-way ANOVA using Python and interpret F-statistic and p-value.\n",
        "\n",
        "\n",
        "# Data for Region A, Region B, and Region C\n",
        "region_a = [160, 162, 165, 158, 164]\n",
        "region_b = [172, 175, 170, 168, 174]\n",
        "region_c = [180, 182, 179, 185, 183]\n",
        "\n",
        "# Perform one-way ANOVA using scipy.stats.f_oneway\n",
        "f_statistic, p_value = stats.f_oneway(region_a, region_b, region_c)\n",
        "\n",
        "f_statistic, p_value\n"
      ],
      "metadata": {
        "id": "UgrEB5D8wBTH"
      },
      "execution_count": null,
      "outputs": []
    }
  ]
}